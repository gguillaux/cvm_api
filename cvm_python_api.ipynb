{
 "cells": [
  {
   "cell_type": "code",
   "execution_count": 1,
   "metadata": {},
   "outputs": [],
   "source": [
    "import requests\n",
    "import pandas as pd\n",
    "from bs4 import BeautifulSoup as bs"
   ]
  },
  {
   "cell_type": "code",
   "execution_count": 2,
   "metadata": {},
   "outputs": [],
   "source": [
    "cvm_url = r'http://dados.cvm.gov.br/dados/FI/CAD/DADOS/'"
   ]
  },
  {
   "cell_type": "code",
   "execution_count": 3,
   "metadata": {},
   "outputs": [],
   "source": [
    "s = bs(requests.get(cvm_url).text)"
   ]
  },
  {
   "cell_type": "code",
   "execution_count": 4,
   "metadata": {},
   "outputs": [],
   "source": [
    "csvs = [a.attrs['href'] for a in s.select('td a') if '.csv' in a.attrs['href']]"
   ]
  },
  {
   "cell_type": "code",
   "execution_count": 5,
   "metadata": {},
   "outputs": [],
   "source": [
    "csv_2020 = [j for j in csvs if '_2020' in j]"
   ]
  },
  {
   "cell_type": "code",
   "execution_count": 11,
   "metadata": {},
   "outputs": [
    {
     "name": "stdout",
     "output_type": "stream",
     "text": [
      "http://dados.cvm.gov.br/dados/FI/CAD/DADOS/inf_cadastral_fi_20200101.csv\n",
      "http://dados.cvm.gov.br/dados/FI/CAD/DADOS/inf_cadastral_fi_20200102.csv\n",
      "http://dados.cvm.gov.br/dados/FI/CAD/DADOS/inf_cadastral_fi_20200103.csv\n",
      "http://dados.cvm.gov.br/dados/FI/CAD/DADOS/inf_cadastral_fi_20200106.csv\n",
      "http://dados.cvm.gov.br/dados/FI/CAD/DADOS/inf_cadastral_fi_20200107.csv\n",
      "http://dados.cvm.gov.br/dados/FI/CAD/DADOS/inf_cadastral_fi_20200108.csv\n",
      "http://dados.cvm.gov.br/dados/FI/CAD/DADOS/inf_cadastral_fi_20200109.csv\n",
      "http://dados.cvm.gov.br/dados/FI/CAD/DADOS/inf_cadastral_fi_20200110.csv\n",
      "http://dados.cvm.gov.br/dados/FI/CAD/DADOS/inf_cadastral_fi_20200113.csv\n",
      "http://dados.cvm.gov.br/dados/FI/CAD/DADOS/inf_cadastral_fi_20200114.csv\n",
      "http://dados.cvm.gov.br/dados/FI/CAD/DADOS/inf_cadastral_fi_20200115.csv\n",
      "http://dados.cvm.gov.br/dados/FI/CAD/DADOS/inf_cadastral_fi_20200116.csv\n",
      "http://dados.cvm.gov.br/dados/FI/CAD/DADOS/inf_cadastral_fi_20200117.csv\n",
      "http://dados.cvm.gov.br/dados/FI/CAD/DADOS/inf_cadastral_fi_20200120.csv\n",
      "http://dados.cvm.gov.br/dados/FI/CAD/DADOS/inf_cadastral_fi_20200121.csv\n",
      "http://dados.cvm.gov.br/dados/FI/CAD/DADOS/inf_cadastral_fi_20200122.csv\n",
      "http://dados.cvm.gov.br/dados/FI/CAD/DADOS/inf_cadastral_fi_20200123.csv\n",
      "http://dados.cvm.gov.br/dados/FI/CAD/DADOS/inf_cadastral_fi_20200124.csv\n",
      "http://dados.cvm.gov.br/dados/FI/CAD/DADOS/inf_cadastral_fi_20200127.csv\n",
      "http://dados.cvm.gov.br/dados/FI/CAD/DADOS/inf_cadastral_fi_20200128.csv\n",
      "http://dados.cvm.gov.br/dados/FI/CAD/DADOS/inf_cadastral_fi_20200129.csv\n",
      "http://dados.cvm.gov.br/dados/FI/CAD/DADOS/inf_cadastral_fi_20200130.csv\n",
      "http://dados.cvm.gov.br/dados/FI/CAD/DADOS/inf_cadastral_fi_20200131.csv\n",
      "http://dados.cvm.gov.br/dados/FI/CAD/DADOS/inf_cadastral_fi_20200203.csv\n",
      "http://dados.cvm.gov.br/dados/FI/CAD/DADOS/inf_cadastral_fi_20200204.csv\n",
      "http://dados.cvm.gov.br/dados/FI/CAD/DADOS/inf_cadastral_fi_20200205.csv\n",
      "http://dados.cvm.gov.br/dados/FI/CAD/DADOS/inf_cadastral_fi_20200206.csv\n",
      "http://dados.cvm.gov.br/dados/FI/CAD/DADOS/inf_cadastral_fi_20200207.csv\n",
      "http://dados.cvm.gov.br/dados/FI/CAD/DADOS/inf_cadastral_fi_20200210.csv\n",
      "http://dados.cvm.gov.br/dados/FI/CAD/DADOS/inf_cadastral_fi_20200211.csv\n",
      "http://dados.cvm.gov.br/dados/FI/CAD/DADOS/inf_cadastral_fi_20200212.csv\n",
      "http://dados.cvm.gov.br/dados/FI/CAD/DADOS/inf_cadastral_fi_20200213.csv\n",
      "http://dados.cvm.gov.br/dados/FI/CAD/DADOS/inf_cadastral_fi_20200214.csv\n",
      "http://dados.cvm.gov.br/dados/FI/CAD/DADOS/inf_cadastral_fi_20200217.csv\n",
      "http://dados.cvm.gov.br/dados/FI/CAD/DADOS/inf_cadastral_fi_20200218.csv\n",
      "http://dados.cvm.gov.br/dados/FI/CAD/DADOS/inf_cadastral_fi_20200219.csv\n"
     ]
    }
   ],
   "source": [
    "frames = []\n",
    "for x in csv_2020:\n",
    "    try: \n",
    "        aux_url = cvm_url + x\n",
    "        print(aux_url)\n",
    "        k = pd.read_csv(aux_url, sep=\";\", encoding=\"latin1\")\n",
    "        frames.append(k)\n",
    "    except Exception as e:\n",
    "        print('Error = {}\\nURL = {}'.format(str(e), aux_url))\n",
    "        pass"
   ]
  },
  {
   "cell_type": "code",
   "execution_count": 14,
   "metadata": {},
   "outputs": [],
   "source": [
    "df = pd.concat(frames, axis=0)"
   ]
  },
  {
   "cell_type": "code",
   "execution_count": 18,
   "metadata": {},
   "outputs": [],
   "source": [
    "df.to_csv('cvm_2020.csv')"
   ]
  },
  {
   "cell_type": "code",
   "execution_count": null,
   "metadata": {},
   "outputs": [],
   "source": []
  }
 ],
 "metadata": {
  "kernelspec": {
   "display_name": "Python 3",
   "language": "python",
   "name": "python3"
  },
  "language_info": {
   "codemirror_mode": {
    "name": "ipython",
    "version": 3
   },
   "file_extension": ".py",
   "mimetype": "text/x-python",
   "name": "python",
   "nbconvert_exporter": "python",
   "pygments_lexer": "ipython3",
   "version": "3.6.9"
  }
 },
 "nbformat": 4,
 "nbformat_minor": 4
}
